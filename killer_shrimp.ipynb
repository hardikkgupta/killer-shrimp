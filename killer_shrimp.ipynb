{
  "cells": [
    {
      "cell_type": "code",
      "execution_count": null,
      "metadata": {
        "id": "2-E33sc9IFWl"
      },
      "outputs": [],
      "source": [
        "import numpy as np\n",
        "import pandas as pd\n",
        "import matplotlib.pyplot as plt\n",
        "\n",
        "from sklearn.model_selection import StratifiedKFold\n",
        "from sklearn.metrics import roc_auc_score\n",
        "from sklearn.experimental import enable_iterative_imputer\n",
        "from sklearn.impute import IterativeImputer\n",
        "from xgboost import XGBClassifier\n",
        "from xgboost import plot_importance"
      ]
    },
    {
      "cell_type": "code",
      "execution_count": null,
      "metadata": {
        "id": "fSyaswndIFWm"
      },
      "outputs": [],
      "source": [
        "# Global variables\n",
        "data_dir = '/kaggle/input/killer-shrimp-invasion/'\n",
        "RANDOM_STATE = 0"
      ]
    },
    {
      "cell_type": "code",
      "execution_count": null,
      "metadata": {
        "id": "DDXTwmTEIFWn"
      },
      "outputs": [],
      "source": [
        "# Import data\n",
        "train = pd.read_csv(data_dir + 'train.csv')\n",
        "test = pd.read_csv(data_dir + 'test.csv')\n",
        "\n",
        "# Split data into different variables\n",
        "Y_train = train['Presence']\n",
        "ID_train = train['pointid']\n",
        "X_train = train.drop(['Presence', 'pointid'], axis = 1)\n",
        "ID_test = test['pointid']\n",
        "X_test = test.drop(['pointid'], axis = 1)"
      ]
    },
    {
      "cell_type": "code",
      "execution_count": null,
      "metadata": {
        "id": "w9vWokAYIFWo"
      },
      "outputs": [],
      "source": [
        "# Fill in NaN values using sklearn imputer\n",
        "imputer = IterativeImputer(max_iter = 10, random_state = RANDOM_STATE)\n",
        "imputer.fit(X_train)\n",
        "column_names = list(X_train.columns)\n",
        "X_train = pd.DataFrame(imputer.transform(X_train), columns = column_names)\n",
        "X_test = pd.DataFrame(imputer.transform(X_test), columns = column_names)"
      ]
    },
    {
      "cell_type": "markdown",
      "metadata": {
        "id": "ejPKlNJFIFWo"
      },
      "source": [
        "# Feature Engineering\n",
        "We only have five features in the training data (temperature, salinity, depth, exposure, and substrate).  We will use feature engineering to create more features. Those used in this notebook are:\n",
        " - Ocean Density\n",
        " - EUNIS Exposure Classifications (for which we actually create nine features)\n",
        " - Temperature Equation\n",
        " - Outlier (Bounded-Box)\n",
        "\n",
        "Each is dealt with in a separate cell."
      ]
    },
    {
      "cell_type": "code",
      "execution_count": null,
      "metadata": {
        "id": "F2LPG2oNIFWo"
      },
      "outputs": [],
      "source": [
        "# If you notice any errors with this function please let me know as it was transcribed by hand from the linked source\n",
        "def ocean_density(temp, salin, depth):\n",
        "    # Get approximate pressure at given depth\n",
        "    pressure_approx = 1 + (depth / 10)\n",
        "\n",
        "    # Standard Mean Ocean Water density\n",
        "    smow = 999.842594 + (6.793953e-2 * temp) - (9.095290e-3 * (temp ** 2)) + (1.001685e-4 * (temp ** 3)) - (1.120083e-6 * (temp ** 4)) + (6.536332e-9 * (temp ** 5))\n",
        "\n",
        "    # Sea water density at normal atmospheric pressure\n",
        "    B = 0.82449 - (4.0899e-3 * temp) + (7.6438e-5 * (temp ** 2)) - (8.2467e-7 * (temp ** 3)) + (5.3875e-9 * (temp ** 4))\n",
        "    C = -5.7246e-3 + (1.0227e-4 * temp) + (-1.6546e-6 * (temp ** 2))\n",
        "    D = 4.8314e-4\n",
        "    density_normal = smow + (B * salin) + (C * (salin ** 1.5)) + (D * (salin ** 2))\n",
        "\n",
        "    # Determination of compression module at pressure 0\n",
        "    Kw = 19652.21 + (148.4206 * temp) + (-2.327105 * (temp ** 2)) + (1.360477e-2 * (temp ** 3)) + (-5.155288e-5 * (temp ** 4))\n",
        "    F = 54.6746 + (-0.603459 * temp) + (1.099870e-2 * (temp ** 2)) + (-6.167e-5 * (temp ** 3))\n",
        "    G = 7.9440e-2 + (1.6483e-2 * temp) + (-5.3009e-4 * (temp ** 2))\n",
        "    K_0 = Kw + (F * salin) + (G * (salin ** 1.5))\n",
        "\n",
        "    # Determination of final compressibility module\n",
        "    Aw = 3.23990 + (1.43713e-3 * temp) + (1.16092e-4 * (temp ** 2)) + (-5.77905e-7 * (temp ** 3))\n",
        "    A1 = Aw + ((2.28380e-3 + (-1.09810e-5 * temp) + (-1.60780e-6 * (temp ** 2))) * salin) + (1.91075e-4 * (salin ** 1.5))\n",
        "    Bw = 8.50935e-5 + (-6.12293e-6 * temp) + (5.27870e-8 * (temp ** 2))\n",
        "    B2 = Bw + (-9.9348e-7 + (2.0816e-8 * temp) + (9.1697e-10 * (temp ** 2))) * salin\n",
        "    K = K_0 + (A1 * pressure_approx) + (B2 * (pressure_approx ** 2))\n",
        "\n",
        "    return (density_normal / (1 - (pressure_approx / K))) - 1000"
      ]
    },
    {
      "cell_type": "code",
      "execution_count": null,
      "metadata": {
        "id": "9e-qOT0jIFWp"
      },
      "outputs": [],
      "source": [
        "X_train['Density'] = X_train.apply(lambda x: ocean_density(x['Temperature_today'], x['Salinity_today'], x['Depth']), axis = 1)\n",
        "X_test['Density'] = X_test.apply(lambda x: ocean_density(x['Temperature_today'], x['Salinity_today'], x['Depth']), axis = 1)"
      ]
    },
    {
      "cell_type": "markdown",
      "metadata": {
        "id": "fBEBEK5yIFWp"
      },
      "source": [
        "## EUNIS Exposure Classifications\n",
        "\n",
        "EUNIS Exposure Classifications are categorical features for the exposure feature.\n",
        "\n",
        "| EUNIS Subclass | SWM Minimum | SWM Maxium |\n",
        "| --- | --- | --- |\n",
        "| Extremely Exposed | 2000000 | 5000000 |\n",
        "| Very Exposed | 1000000 | 2000000 |\n",
        "| Exposed | 500000 | 1000000 |\n",
        "| Moderately Exposed | 100000 | 500000 |\n",
        "| Sheltered | 10000 | 100000 |\n",
        "| Very Sheltered | 4000 | 10000 |\n",
        "| Extremely Sheltered | 1200 | 4000 |\n",
        "| Ultra Sheltered | 1 | 1200 |\n",
        "\n",
        "In the report these subclasses are grouped into three classes of energy-level; exposed (extremely exposed, very exposed, exposed), moderately exposed (moderately exposed), and sheltered (sheltered, very sheltered, extremely sheltered, ultra sheltered). We will not extract these energy classes as feature but we will take a subset of the exposed class in a feature that we call 'EUNIS Min Very Exposed'."
      ]
    },
    {
      "cell_type": "code",
      "execution_count": null,
      "metadata": {
        "id": "cAIvyFiWIFWp"
      },
      "outputs": [],
      "source": [
        "def eunis_classification(exposure):\n",
        "    if exposure <= 1200:\n",
        "        return 'Ultra Sheltered'\n",
        "    elif exposure <= 4000:\n",
        "        return 'Extremely Sheltered'\n",
        "    elif exposure <= 10000:\n",
        "        return 'Very Sheltered'\n",
        "    elif exposure <= 100000:\n",
        "        return 'Sheltered'\n",
        "    elif exposure <= 500000:\n",
        "        return 'Moderately Exposed'\n",
        "    elif exposure <= 1000000:\n",
        "        return 'Exposed'\n",
        "    elif exposure <= 2000000:\n",
        "        return 'Very Exposed'\n",
        "    else:\n",
        "        return 'Extremely Exposed'"
      ]
    },
    {
      "cell_type": "code",
      "execution_count": null,
      "metadata": {
        "id": "tEBCUuYGIFWp"
      },
      "outputs": [],
      "source": [
        "for classifi in ['Ultra Sheltered', 'Extremely Sheltered', 'Very Sheltered', 'Sheltered', 'Moderately Exposed', 'Exposed', 'Very Exposed']:\n",
        "    X_train['EUNIS ' + classifi] = X_train['Exposure'].apply(lambda x: 1 if eunis_classification(x) == classifi else 0)\n",
        "    X_test['EUNIS ' + classifi] = X_test['Exposure'].apply(lambda x: 1 if eunis_classification(x) == classifi else 0)\n",
        "\n",
        "X_train['EUNIS Min Very Exposed'] = X_train['Exposure'].apply(lambda x: 1 if eunis_classification(x) == 'Extremely Exposed' or eunis_classification(x) == 'Very Exposed' else 0)\n",
        "X_test['EUNIS Min Very Exposed'] = X_test['Exposure'].apply(lambda x: 1 if eunis_classification(x) == 'Extremely Exposed' or eunis_classification(x) == 'Very Exposed' else 0)"
      ]
    },
    {
      "cell_type": "markdown",
      "metadata": {
        "id": "LT4VijQPIFWp"
      },
      "source": [
        "## Temperature-Only Model Equation\n",
        "A full explanation of this feature can be found. In the notebook, a logistic regression model is fitted to the training data using only the temperature feature. The resulting equation gives a decent model for the problem, but can also be used as an additional feature. Similar equations can be calculated for other features such as depth or salinity but the cross validation score is not as high as that for temperature. The cross validation score achieved for the temperature equation was approximately 0.87. The linked notebook shows that a salinity model only had an approximate score of 0.58. The temperature equation is given below:\n",
        "\n",
        "$$ p(Shrimp) = \\frac{1}{1 + e^{-f(t)}}$$  \n",
        "\n",
        "$$ f(t) = -10.52910058 + 2.21529641*t - 0.57623745*t^2 - 2.06832485*t^3\\\\ + 0.30713969*t^4 - 2.21781761*t^5 - 1.85363275*t^6$$"
      ]
    },
    {
      "cell_type": "code",
      "execution_count": null,
      "metadata": {
        "id": "4-WxSgNbIFWp"
      },
      "outputs": [],
      "source": [
        "def temperature_equation(t):\n",
        "    coefs = [-10.52910058, 2.21529641, -0.57623745, -2.06832485, 0.30713969, -2.21781761, -1.85363275]\n",
        "    temps = [1, t, t**2, t**3, t**4, t**5, t**6]\n",
        "    summed = np.dot(coefs, temps)\n",
        "    return 1 / (1 + np.exp(summed))"
      ]
    },
    {
      "cell_type": "code",
      "execution_count": null,
      "metadata": {
        "id": "iCdKvLHfIFWp"
      },
      "outputs": [],
      "source": [
        "X_train['Temperature Model'] = X_train['Temperature_today'].apply(lambda x: temperature_equation(x))\n",
        "X_test['Temperature Model'] = X_test['Temperature_today'].apply(lambda x: temperature_equation(x))"
      ]
    },
    {
      "cell_type": "markdown",
      "metadata": {
        "id": "XiWdcF3QIFWp"
      },
      "source": [
        "## Outlier (Bounded Box) Feature\n",
        "Information on the habitat of Killer Shrimp is given. Notably they:\n",
        " - tolerate salinity up to 20ppt (12ppt is optimal)\n",
        " - tolerate temperatures between 0 and 35 degress Celsius (5-15 degrees is optimum)\n",
        " - are thought to occupy every substratum except for sand\n",
        " - are present in areas of low current velocity\n",
        "\n",
        "Hard-coding these conditions into the model poses difficulties, particularly with the substratum (training data suggests they are found in sand substratum). Instead, we will create a bounded box around the data using our training data. Since it is possible that unseen data (such as our test data) could fall outside of this bounded box, we also introduce a ratio that expands the bounding box slightly. The ratio of 0.82 in this notebook was chosen experimentally.\n",
        "\n",
        "Experimentally, this outlier feature had greater use in models that used fewer other features. As the number of features increased, the model was better able to remove outliers without the explicit need for an outlier feature."
      ]
    },
    {
      "cell_type": "code",
      "execution_count": null,
      "metadata": {
        "id": "CPjXsPJBIFWp"
      },
      "outputs": [],
      "source": [
        "# Wrapper to remove outliers\n",
        "class OutlierFeature():\n",
        "    def __init__(self, ratio, outlier_features):\n",
        "        self.ratio = ratio\n",
        "        self.outlier_features = outlier_features\n",
        "\n",
        "    def exclude_outliers(self, row):\n",
        "        lower_multiplier = self.ratio\n",
        "        upper_multiplier = 1 / self.ratio\n",
        "        conditions = []\n",
        "        for feature, cmin, cmax in self.outlier_conditions:\n",
        "            conditions.append(row[feature] > cmin)\n",
        "            conditions.append(row[feature] < cmax)\n",
        "        return 1 if sum(conditions) == len(conditions) else 0\n",
        "\n",
        "    def fit(self, x, y):\n",
        "        self.outlier_conditions = []\n",
        "        for feature in self.outlier_features:\n",
        "            fmin = x[y == 1][feature].min()\n",
        "            fmax = x[y == 1][feature].max()\n",
        "            lower_multiplier = self.ratio\n",
        "            upper_multiplier = 1 / self.ratio\n",
        "\n",
        "            cmin = fmin * lower_multiplier if fmin > 0 else fmin * upper_multiplier\n",
        "            cmax = fmax * upper_multiplier if fmax > 0 else fmax * lower_multiplier\n",
        "            self.outlier_conditions.append((feature, cmin, cmax))\n",
        "\n",
        "    def transform(self, x):\n",
        "        outliers = x.apply(lambda x: self.exclude_outliers(x), axis = 1)\n",
        "        return outliers"
      ]
    },
    {
      "cell_type": "code",
      "execution_count": null,
      "metadata": {
        "id": "KKrIN5_CIFWp"
      },
      "outputs": [],
      "source": [
        "outlier_finder = OutlierFeature(0.82, ['Temperature_today', 'Salinity_today', 'Exposure', 'Depth'])\n",
        "outlier_finder.fit(X_train, Y_train)\n",
        "X_train['Outlier'] = outlier_finder.transform(X_train)\n",
        "X_test['Outlier'] = outlier_finder.transform(X_test)"
      ]
    },
    {
      "cell_type": "markdown",
      "metadata": {
        "id": "124T8ntaIFWp"
      },
      "source": [
        "# Models\n",
        "Firstly we will define a function that allows us the perform stratified cross validation. We will be using five folds. Setting verbose to True will output the AUROC score for each fold as well as the final average. The final average is also returned from the function."
      ]
    },
    {
      "cell_type": "code",
      "execution_count": null,
      "metadata": {
        "id": "xN6afpGTIFWp"
      },
      "outputs": [],
      "source": [
        "# K-Fold Cross Validation\n",
        "def five_fold_cv(model, X_train, Y_train, verbose = True):\n",
        "    skf = StratifiedKFold(n_splits = 5)\n",
        "    fold = 1\n",
        "    scores = []\n",
        "\n",
        "    for train_index, test_index in skf.split(X_train, Y_train):\n",
        "        X_train_fold, X_test_fold = X_train.iloc[train_index], X_train.iloc[test_index]\n",
        "        Y_train_fold, Y_test_fold = Y_train.iloc[train_index], Y_train.iloc[test_index]\n",
        "\n",
        "        model.fit(X_train_fold, Y_train_fold)\n",
        "\n",
        "        preds = model.predict_proba(X_test_fold)\n",
        "        preds = [x[1] for x in preds]\n",
        "\n",
        "        score = roc_auc_score(Y_test_fold, preds)\n",
        "        scores.append(score)\n",
        "        if verbose:\n",
        "            print('Fold', fold, '     ', score)\n",
        "        fold += 1\n",
        "\n",
        "    avg = np.mean(scores)\n",
        "    if verbose:\n",
        "        print()\n",
        "        print('Average:', avg)\n",
        "    return avg"
      ]
    },
    {
      "cell_type": "markdown",
      "metadata": {
        "id": "5M0ITUtxIFWq"
      },
      "source": [
        "We will also define a list of features that will be used in the model."
      ]
    },
    {
      "cell_type": "code",
      "execution_count": null,
      "metadata": {
        "id": "B282opNNIFWq"
      },
      "outputs": [],
      "source": [
        "features = ['Temperature_today', 'Salinity_today', 'Depth', 'EUNIS Ultra Sheltered', 'EUNIS Extremely Sheltered', 'EUNIS Very Sheltered', 'EUNIS Sheltered', 'EUNIS Moderately Exposed', 'EUNIS Exposed', 'EUNIS Very Exposed', 'Substrate', 'Outlier', 'Temperature Model', 'Density', 'EUNIS Min Very Exposed']"
      ]
    },
    {
      "cell_type": "markdown",
      "metadata": {
        "id": "CBs2ho5oIFWq"
      },
      "source": [
        "Now we will create an XGB model and check its performance by doing cross validation."
      ]
    },
    {
      "cell_type": "code",
      "execution_count": null,
      "metadata": {
        "id": "teD5fFkDIFWq",
        "outputId": "ff868449-975c-4f61-b582-80504766ba7f"
      },
      "outputs": [
        {
          "name": "stdout",
          "output_type": "stream",
          "text": [
            "Fold 1       0.9996484189802342\n",
            "Fold 2       0.9977843636412104\n",
            "Fold 3       0.9989777208258204\n",
            "Fold 4       0.9991787874691307\n",
            "Fold 5       0.9989130765920663\n",
            "\n",
            "Average: 0.9989004735016923\n"
          ]
        }
      ],
      "source": [
        "model = XGBClassifier(random_state = RANDOM_STATE, eval_metric = 'auc', objective = 'binary:logistic',\n",
        "                          learning_rate = 0.3, max_depth = 5, subsample = 1, reg_lambda = 0.5)\n",
        "\n",
        "score = five_fold_cv(model, X_train[features], Y_train, verbose=True)"
      ]
    },
    {
      "cell_type": "markdown",
      "metadata": {
        "id": "5KbLZQyuIFWq"
      },
      "source": [
        "# Predictions\n",
        "With our model created we can now make predictions. Our predictions will be outputted to _preds.csv_."
      ]
    },
    {
      "cell_type": "code",
      "execution_count": null,
      "metadata": {
        "id": "gIWLpSIfIFWq"
      },
      "outputs": [],
      "source": [
        "preds = pd.DataFrame(ID_test, columns=['pointid'])\n",
        "\n",
        "model.fit(X_train[features], Y_train)\n",
        "preds['Presence'] = model.predict_proba(X_test[features])[:,1]\n",
        "\n",
        "preds[['pointid', 'Presence']].to_csv('preds.csv', index=False)"
      ]
    },
    {
      "cell_type": "code",
      "execution_count": null,
      "metadata": {
        "id": "JbJ98ApyIFWq",
        "outputId": "df4a622d-bd68-4691-cb74-36dc934b6346"
      },
      "outputs": [
        {
          "data": {
            "image/png": "[encoded data removed]",
            "text/plain": [
              "<Figure size 1008x360 with 2 Axes>"
            ]
          },
          "metadata": {
            "needs_background": "light"
          },
          "output_type": "display_data"
        }
      ],
      "source": [
        "fig, (ax1, ax2) = plt.subplots(1, 2, figsize=(14, 5))\n",
        "plot_importance(model, importance_type='weight', height=0.5, xlabel='Weight', title='Feature Importance by Weight', ax=ax1)\n",
        "plot_importance(model, importance_type='gain', height=0.5, xlabel='Gain', title='Feature Importance by Gain', ax=ax2)\n",
        "plt.tight_layout()\n",
        "plt.show()"
      ]
    }
  ],
  "metadata": {
    "kernelspec": {
      "display_name": "Python 3",
      "language": "python",
      "name": "python3"
    },
    "language_info": {
      "codemirror_mode": {
        "name": "ipython",
        "version": 3
      },
      "file_extension": ".py",
      "mimetype": "text/x-python",
      "name": "python",
      "nbconvert_exporter": "python",
      "pygments_lexer": "ipython3",
      "version": "3.7.6"
    },
    "colab": {
      "provenance": []
    }
  },
  "nbformat": 4,
  "nbformat_minor": 0
}